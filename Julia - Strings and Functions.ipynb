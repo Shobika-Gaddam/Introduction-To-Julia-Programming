{
 "cells": [
  {
   "cell_type": "code",
   "execution_count": 1,
   "id": "4e8bb4b3",
   "metadata": {},
   "outputs": [
    {
     "data": {
      "text/plain": [
       "\"Hi, How are you?\""
      ]
     },
     "execution_count": 1,
     "metadata": {},
     "output_type": "execute_result"
    }
   ],
   "source": [
    "# Strings\n",
    "A = \"Hi, How are you?\""
   ]
  },
  {
   "cell_type": "code",
   "execution_count": 2,
   "id": "1677183a",
   "metadata": {},
   "outputs": [
    {
     "data": {
      "text/plain": [
       "16"
      ]
     },
     "execution_count": 2,
     "metadata": {},
     "output_type": "execute_result"
    }
   ],
   "source": [
    "length(A)"
   ]
  },
  {
   "cell_type": "code",
   "execution_count": 3,
   "id": "a7401762",
   "metadata": {},
   "outputs": [
    {
     "data": {
      "text/plain": [
       "16"
      ]
     },
     "execution_count": 3,
     "metadata": {},
     "output_type": "execute_result"
    }
   ],
   "source": [
    "lastindex(A)"
   ]
  },
  {
   "cell_type": "code",
   "execution_count": 4,
   "id": "d73b656b",
   "metadata": {},
   "outputs": [
    {
     "data": {
      "text/plain": [
       "'i': ASCII/Unicode U+0069 (category Ll: Letter, lowercase)"
      ]
     },
     "execution_count": 4,
     "metadata": {},
     "output_type": "execute_result"
    }
   ],
   "source": [
    "A[2]\n",
    "# index value in julia starts from 1"
   ]
  },
  {
   "cell_type": "code",
   "execution_count": 5,
   "id": "b61b00ac",
   "metadata": {},
   "outputs": [
    {
     "data": {
      "text/plain": [
       "\", Ho\""
      ]
     },
     "execution_count": 5,
     "metadata": {},
     "output_type": "execute_result"
    }
   ],
   "source": [
    "A[3:6]"
   ]
  },
  {
   "cell_type": "code",
   "execution_count": 6,
   "id": "33f79ca0",
   "metadata": {},
   "outputs": [
    {
     "data": {
      "text/plain": [
       "true"
      ]
     },
     "execution_count": 6,
     "metadata": {},
     "output_type": "execute_result"
    }
   ],
   "source": [
    "isascii(A)"
   ]
  },
  {
   "cell_type": "code",
   "execution_count": 10,
   "id": "92eda5a4",
   "metadata": {},
   "outputs": [
    {
     "data": {
      "text/plain": [
       "\"Like Flowers\""
      ]
     },
     "execution_count": 10,
     "metadata": {},
     "output_type": "execute_result"
    }
   ],
   "source": [
    "\"Like\" * \" Flowers\""
   ]
  },
  {
   "cell_type": "code",
   "execution_count": 12,
   "id": "f443ce74",
   "metadata": {},
   "outputs": [
    {
     "data": {
      "text/plain": [
       "\"Like Like Like Like Like \""
      ]
     },
     "execution_count": 12,
     "metadata": {},
     "output_type": "execute_result"
    }
   ],
   "source": [
    "\"Like \" ^5"
   ]
  },
  {
   "cell_type": "code",
   "execution_count": 14,
   "id": "1e65f1e0",
   "metadata": {},
   "outputs": [
    {
     "data": {
      "text/plain": [
       "\"Like Julia\""
      ]
     },
     "execution_count": 14,
     "metadata": {},
     "output_type": "execute_result"
    }
   ],
   "source": [
    "string(\"Like\", \" Julia\")"
   ]
  },
  {
   "cell_type": "code",
   "execution_count": 15,
   "id": "cf6af89c",
   "metadata": {},
   "outputs": [
    {
     "data": {
      "text/plain": [
       "4-element Vector{SubString{String}}:\n",
       " \"Hi,\"\n",
       " \"How\"\n",
       " \"are\"\n",
       " \"you?\""
      ]
     },
     "execution_count": 15,
     "metadata": {},
     "output_type": "execute_result"
    }
   ],
   "source": [
    "split(A)"
   ]
  },
  {
   "cell_type": "code",
   "execution_count": 16,
   "id": "754a12ee",
   "metadata": {},
   "outputs": [
    {
     "data": {
      "text/plain": [
       "2-element Vector{SubString{String}}:\n",
       " \"Hi, Ho\"\n",
       " \" are you?\""
      ]
     },
     "execution_count": 16,
     "metadata": {},
     "output_type": "execute_result"
    }
   ],
   "source": [
    "split(A,\"w\")"
   ]
  },
  {
   "cell_type": "code",
   "execution_count": 17,
   "id": "551f4cac",
   "metadata": {},
   "outputs": [
    {
     "data": {
      "text/plain": [
       "3-element Vector{SubString{String}}:\n",
       " \"\"\n",
       " \"i, \"\n",
       " \"ow are you?\""
      ]
     },
     "execution_count": 17,
     "metadata": {},
     "output_type": "execute_result"
    }
   ],
   "source": [
    "split(A,\"H\")"
   ]
  },
  {
   "cell_type": "code",
   "execution_count": 18,
   "id": "5d462c28",
   "metadata": {},
   "outputs": [
    {
     "data": {
      "text/plain": [
       "2-element Vector{SubString{String}}:\n",
       " \"Hi, How \"\n",
       " \" you?\""
      ]
     },
     "execution_count": 18,
     "metadata": {},
     "output_type": "execute_result"
    }
   ],
   "source": [
    "split(A,\"are\")"
   ]
  },
  {
   "cell_type": "code",
   "execution_count": 19,
   "id": "81433630",
   "metadata": {},
   "outputs": [
    {
     "data": {
      "text/plain": [
       "100"
      ]
     },
     "execution_count": 19,
     "metadata": {},
     "output_type": "execute_result"
    }
   ],
   "source": [
    "parse(Int64, \"100\")\n",
    "# parse is used for coverting no./floats to string"
   ]
  },
  {
   "cell_type": "code",
   "execution_count": 20,
   "id": "70fe304f",
   "metadata": {},
   "outputs": [
    {
     "data": {
      "text/plain": [
       "100.5"
      ]
     },
     "execution_count": 20,
     "metadata": {},
     "output_type": "execute_result"
    }
   ],
   "source": [
    "parse(Float64, \"100.5\")"
   ]
  },
  {
   "cell_type": "code",
   "execution_count": 24,
   "id": "81c6a12a",
   "metadata": {},
   "outputs": [
    {
     "data": {
      "text/plain": [
       "true"
      ]
     },
     "execution_count": 24,
     "metadata": {},
     "output_type": "execute_result"
    }
   ],
   "source": [
    "# check whether the letter is present or not\n",
    "in('i',A)"
   ]
  },
  {
   "cell_type": "code",
   "execution_count": 25,
   "id": "81d20310",
   "metadata": {},
   "outputs": [
    {
     "data": {
      "text/plain": [
       "false"
      ]
     },
     "execution_count": 25,
     "metadata": {},
     "output_type": "execute_result"
    }
   ],
   "source": [
    "in('z',A)"
   ]
  },
  {
   "cell_type": "code",
   "execution_count": 27,
   "id": "f6cbb41c",
   "metadata": {},
   "outputs": [
    {
     "data": {
      "text/plain": [
       "false"
      ]
     },
     "execution_count": 27,
     "metadata": {},
     "output_type": "execute_result"
    }
   ],
   "source": [
    "# whether the word is present or not\n",
    "occursin(\"Like\",A)"
   ]
  },
  {
   "cell_type": "code",
   "execution_count": 28,
   "id": "326bae08",
   "metadata": {},
   "outputs": [
    {
     "data": {
      "text/plain": [
       "true"
      ]
     },
     "execution_count": 28,
     "metadata": {},
     "output_type": "execute_result"
    }
   ],
   "source": [
    "occursin(\"Hi\",A)"
   ]
  },
  {
   "cell_type": "code",
   "execution_count": 29,
   "id": "80fd7caf",
   "metadata": {},
   "outputs": [
    {
     "data": {
      "text/plain": [
       "2:2"
      ]
     },
     "execution_count": 29,
     "metadata": {},
     "output_type": "execute_result"
    }
   ],
   "source": [
    "# location of letter\n",
    "findfirst(\"i\",A)"
   ]
  },
  {
   "cell_type": "code",
   "execution_count": 30,
   "id": "bdd0834c",
   "metadata": {},
   "outputs": [
    {
     "data": {
      "text/plain": [
       "1:2"
      ]
     },
     "execution_count": 30,
     "metadata": {},
     "output_type": "execute_result"
    }
   ],
   "source": [
    "findfirst(\"Hi\",A)"
   ]
  },
  {
   "cell_type": "code",
   "execution_count": 31,
   "id": "9ecac69b",
   "metadata": {},
   "outputs": [
    {
     "data": {
      "text/plain": [
       "\"Anu, How are you?\""
      ]
     },
     "execution_count": 31,
     "metadata": {},
     "output_type": "execute_result"
    }
   ],
   "source": [
    "# replace words\n",
    "c = replace(A, \"Hi\" => \"Anu\")\n",
    "c"
   ]
  },
  {
   "cell_type": "code",
   "execution_count": 32,
   "id": "518d34fb",
   "metadata": {},
   "outputs": [
    {
     "data": {
      "text/plain": [
       "f (generic function with 1 method)"
      ]
     },
     "execution_count": 32,
     "metadata": {},
     "output_type": "execute_result"
    }
   ],
   "source": [
    "# Functions\n",
    "f(x) = x+x"
   ]
  },
  {
   "cell_type": "code",
   "execution_count": 33,
   "id": "3980f81f",
   "metadata": {},
   "outputs": [
    {
     "data": {
      "text/plain": [
       "8"
      ]
     },
     "execution_count": 33,
     "metadata": {},
     "output_type": "execute_result"
    }
   ],
   "source": [
    "f(4)"
   ]
  },
  {
   "cell_type": "code",
   "execution_count": 34,
   "id": "5ed326ee",
   "metadata": {},
   "outputs": [
    {
     "data": {
      "text/plain": [
       "f (generic function with 2 methods)"
      ]
     },
     "execution_count": 34,
     "metadata": {},
     "output_type": "execute_result"
    }
   ],
   "source": [
    "f(x,y) = x*2 - 3*y + x^y"
   ]
  },
  {
   "cell_type": "code",
   "execution_count": 35,
   "id": "4e66bb41",
   "metadata": {},
   "outputs": [
    {
     "data": {
      "text/plain": [
       "-3"
      ]
     },
     "execution_count": 35,
     "metadata": {},
     "output_type": "execute_result"
    }
   ],
   "source": [
    "f(1,2)"
   ]
  },
  {
   "cell_type": "code",
   "execution_count": 36,
   "id": "51eeace1",
   "metadata": {},
   "outputs": [
    {
     "data": {
      "text/plain": [
       "multiply (generic function with 1 method)"
      ]
     },
     "execution_count": 36,
     "metadata": {},
     "output_type": "execute_result"
    }
   ],
   "source": [
    "# Standard funtion\n",
    "function multiply(x,y)\n",
    "    return x*y\n",
    "end"
   ]
  },
  {
   "cell_type": "code",
   "execution_count": 37,
   "id": "7125a1ed",
   "metadata": {},
   "outputs": [
    {
     "data": {
      "text/plain": [
       "12"
      ]
     },
     "execution_count": 37,
     "metadata": {},
     "output_type": "execute_result"
    }
   ],
   "source": [
    "multiply(4,3)"
   ]
  },
  {
   "cell_type": "code",
   "execution_count": 40,
   "id": "6547c6b3",
   "metadata": {},
   "outputs": [
    {
     "data": {
      "text/plain": [
       "393.7"
      ]
     },
     "execution_count": 40,
     "metadata": {},
     "output_type": "execute_result"
    }
   ],
   "source": [
    "# Convert metre to inch\n",
    "function con_m_to_in(val)\n",
    "    return val*39.37\n",
    "end\n",
    "con_m_to_in(10)"
   ]
  },
  {
   "cell_type": "code",
   "execution_count": 41,
   "id": "26b73cc8",
   "metadata": {},
   "outputs": [
    {
     "data": {
      "text/plain": [
       "3936.9999999999995"
      ]
     },
     "execution_count": 41,
     "metadata": {},
     "output_type": "execute_result"
    }
   ],
   "source": [
    "con_m_to_in(100)"
   ]
  },
  {
   "cell_type": "code",
   "execution_count": 49,
   "id": "faab3abb",
   "metadata": {},
   "outputs": [
    {
     "data": {
      "text/plain": [
       "con_m_to_in (generic function with 2 methods)"
      ]
     },
     "execution_count": 49,
     "metadata": {},
     "output_type": "execute_result"
    }
   ],
   "source": [
    "function con_m_to_in(val, name=\"Shobika\")\n",
    "    if name == \"Shobika\"\n",
    "        println(\" Its true\")\n",
    "    else\n",
    "        println(\"Hi, \", name, \" is not correct\")\n",
    "    end\n",
    "        return val*39.37\n",
    "end"
   ]
  },
  {
   "cell_type": "code",
   "execution_count": 50,
   "id": "9923224c",
   "metadata": {},
   "outputs": [
    {
     "name": "stdout",
     "output_type": "stream",
     "text": [
      " Its true\n"
     ]
    },
    {
     "data": {
      "text/plain": [
       "59.05499999999999"
      ]
     },
     "execution_count": 50,
     "metadata": {},
     "output_type": "execute_result"
    }
   ],
   "source": [
    "con_m_to_in(1.5)"
   ]
  },
  {
   "cell_type": "code",
   "execution_count": 51,
   "id": "d7edab97",
   "metadata": {},
   "outputs": [
    {
     "name": "stdout",
     "output_type": "stream",
     "text": [
      "Hi, Ram is not correct\n"
     ]
    },
    {
     "data": {
      "text/plain": [
       "59.05499999999999"
      ]
     },
     "execution_count": 51,
     "metadata": {},
     "output_type": "execute_result"
    }
   ],
   "source": [
    "con_m_to_in(1.5,\"Ram\")"
   ]
  },
  {
   "cell_type": "code",
   "execution_count": 52,
   "id": "4ce47269",
   "metadata": {},
   "outputs": [],
   "source": [
    "# Formatting Number and Strings\n",
    "using Printf"
   ]
  },
  {
   "cell_type": "code",
   "execution_count": 54,
   "id": "1fa44a4e",
   "metadata": {},
   "outputs": [],
   "source": [
    "# display wont appear though the line is executed\n",
    "name = \"Shobika\";"
   ]
  },
  {
   "cell_type": "code",
   "execution_count": 55,
   "id": "8d0bb7d1",
   "metadata": {},
   "outputs": [
    {
     "data": {
      "text/plain": [
       "\"Shobika\""
      ]
     },
     "execution_count": 55,
     "metadata": {},
     "output_type": "execute_result"
    }
   ],
   "source": [
    "name"
   ]
  },
  {
   "cell_type": "code",
   "execution_count": 56,
   "id": "038f016d",
   "metadata": {},
   "outputs": [
    {
     "name": "stdout",
     "output_type": "stream",
     "text": [
      "Hello, Shobika"
     ]
    }
   ],
   "source": [
    "@printf(\"Hello, %s\" , name)"
   ]
  },
  {
   "cell_type": "code",
   "execution_count": 58,
   "id": "4aa7e701",
   "metadata": {},
   "outputs": [
    {
     "data": {
      "text/plain": [
       "\"Hello, Shobika\""
      ]
     },
     "execution_count": 58,
     "metadata": {},
     "output_type": "execute_result"
    }
   ],
   "source": [
    "@sprintf(\"Hello, %s\" , name)\n",
    "# string based output"
   ]
  },
  {
   "cell_type": "code",
   "execution_count": 59,
   "id": "30958db9",
   "metadata": {},
   "outputs": [
    {
     "name": "stdout",
     "output_type": "stream",
     "text": [
      "a"
     ]
    }
   ],
   "source": [
    "ch='a'\n",
    "@printf(\"%c\",ch)"
   ]
  },
  {
   "cell_type": "code",
   "execution_count": 60,
   "id": "e8d162b1",
   "metadata": {},
   "outputs": [
    {
     "data": {
      "text/plain": [
       "100"
      ]
     },
     "execution_count": 60,
     "metadata": {},
     "output_type": "execute_result"
    }
   ],
   "source": [
    "x = 100"
   ]
  },
  {
   "cell_type": "code",
   "execution_count": 61,
   "id": "14881ee7",
   "metadata": {},
   "outputs": [
    {
     "name": "stdout",
     "output_type": "stream",
     "text": [
      "value of x is 100"
     ]
    }
   ],
   "source": [
    "@printf(\"value of x is %d\", x)"
   ]
  },
  {
   "cell_type": "code",
   "execution_count": 67,
   "id": "5b017de9",
   "metadata": {},
   "outputs": [
    {
     "name": "stdout",
     "output_type": "stream",
     "text": [
      "value of x is 25.300000"
     ]
    }
   ],
   "source": [
    "y=25.3\n",
    "@printf(\"value of x is %f\", y)"
   ]
  },
  {
   "cell_type": "code",
   "execution_count": 68,
   "id": "028b71c3",
   "metadata": {},
   "outputs": [
    {
     "name": "stdout",
     "output_type": "stream",
     "text": [
      "value of x is 25.3000002"
     ]
    }
   ],
   "source": [
    "y=25.3\n",
    "@printf(\"value of x is %f2\", y)"
   ]
  },
  {
   "cell_type": "code",
   "execution_count": 71,
   "id": "c0c7249f",
   "metadata": {},
   "outputs": [
    {
     "name": "stdout",
     "output_type": "stream",
     "text": [
      "value of x is 25.3"
     ]
    }
   ],
   "source": [
    "y=25.3\n",
    "@printf(\"value of x is %.1f\", y)"
   ]
  },
  {
   "cell_type": "code",
   "execution_count": 72,
   "id": "3f667b31",
   "metadata": {},
   "outputs": [
    {
     "data": {
      "text/plain": [
       "123456789"
      ]
     },
     "execution_count": 72,
     "metadata": {},
     "output_type": "execute_result"
    }
   ],
   "source": [
    "z=123456789"
   ]
  },
  {
   "cell_type": "code",
   "execution_count": 74,
   "id": "8dd38b89",
   "metadata": {},
   "outputs": [
    {
     "name": "stdout",
     "output_type": "stream",
     "text": [
      "1.235e+08"
     ]
    }
   ],
   "source": [
    "@printf(\"%.3e\",z)"
   ]
  },
  {
   "cell_type": "code",
   "execution_count": null,
   "id": "a0e7b952",
   "metadata": {},
   "outputs": [],
   "source": []
  }
 ],
 "metadata": {
  "kernelspec": {
   "display_name": "Julia 1.6.2",
   "language": "julia",
   "name": "julia-1.6"
  },
  "language_info": {
   "file_extension": ".jl",
   "mimetype": "application/julia",
   "name": "julia",
   "version": "1.6.2"
  }
 },
 "nbformat": 4,
 "nbformat_minor": 5
}

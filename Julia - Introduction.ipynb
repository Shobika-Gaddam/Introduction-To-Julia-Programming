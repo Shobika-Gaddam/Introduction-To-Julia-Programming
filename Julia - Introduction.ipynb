{
 "cells": [
  {
   "cell_type": "code",
   "execution_count": 1,
   "id": "fb3ba74b",
   "metadata": {},
   "outputs": [
    {
     "data": {
      "text/plain": [
       "7"
      ]
     },
     "execution_count": 1,
     "metadata": {},
     "output_type": "execute_result"
    }
   ],
   "source": [
    "3+4"
   ]
  },
  {
   "cell_type": "code",
   "execution_count": 2,
   "id": "26553e3c",
   "metadata": {},
   "outputs": [
    {
     "data": {
      "text/plain": [
       "10000"
      ]
     },
     "execution_count": 2,
     "metadata": {},
     "output_type": "execute_result"
    }
   ],
   "source": [
    "# Program\n",
    "\n",
    "loan_amount=2000\n",
    "Interest_rate=0.015\n",
    "tenure=5\n",
    "\n",
    "loan_amount * tenure"
   ]
  },
  {
   "cell_type": "code",
   "execution_count": 3,
   "id": "a431c691",
   "metadata": {},
   "outputs": [
    {
     "data": {
      "text/plain": [
       "\"Terminator\""
      ]
     },
     "execution_count": 3,
     "metadata": {},
     "output_type": "execute_result"
    }
   ],
   "source": [
    "# Create a string\n",
    "movie = \"Terminator\""
   ]
  },
  {
   "cell_type": "code",
   "execution_count": 7,
   "id": "d877cc86",
   "metadata": {},
   "outputs": [
    {
     "data": {
      "text/plain": [
       "\"What is the movie name? Terminator\""
      ]
     },
     "execution_count": 7,
     "metadata": {},
     "output_type": "execute_result"
    }
   ],
   "source": [
    "t1=\"What is the movie name?\"\n",
    "movie = \" Terminator\"\n",
    "t1*movie"
   ]
  },
  {
   "cell_type": "code",
   "execution_count": 8,
   "id": "fc660d2c",
   "metadata": {},
   "outputs": [
    {
     "data": {
      "text/plain": [
       "String"
      ]
     },
     "execution_count": 8,
     "metadata": {},
     "output_type": "execute_result"
    }
   ],
   "source": [
    "# Find type \n",
    "typeof(t1)"
   ]
  },
  {
   "cell_type": "code",
   "execution_count": 9,
   "id": "5b57e244",
   "metadata": {},
   "outputs": [
    {
     "data": {
      "text/plain": [
       "Int64"
      ]
     },
     "execution_count": 9,
     "metadata": {},
     "output_type": "execute_result"
    }
   ],
   "source": [
    "typeof(loan_amount)"
   ]
  },
  {
   "cell_type": "code",
   "execution_count": 11,
   "id": "9b39cdf0",
   "metadata": {},
   "outputs": [
    {
     "data": {
      "text/plain": [
       "Float64"
      ]
     },
     "execution_count": 11,
     "metadata": {},
     "output_type": "execute_result"
    }
   ],
   "source": [
    "typeof(Interest_rate)"
   ]
  },
  {
   "cell_type": "code",
   "execution_count": 12,
   "id": "893eb75d",
   "metadata": {},
   "outputs": [
    {
     "data": {
      "text/plain": [
       "-2.0"
      ]
     },
     "execution_count": 12,
     "metadata": {},
     "output_type": "execute_result"
    }
   ],
   "source": [
    "# Arithmetic Operator Precedents\n",
    "2+5-6/2*3"
   ]
  },
  {
   "cell_type": "code",
   "execution_count": 13,
   "id": "055c6c23",
   "metadata": {},
   "outputs": [
    {
     "data": {
      "text/plain": [
       "-2.0"
      ]
     },
     "execution_count": 13,
     "metadata": {},
     "output_type": "execute_result"
    }
   ],
   "source": [
    "(2+5)-(6/2)*3"
   ]
  },
  {
   "cell_type": "code",
   "execution_count": 16,
   "id": "b0f0ad66",
   "metadata": {},
   "outputs": [
    {
     "ename": "LoadError",
     "evalue": "syntax: extra token \"amount\" after end of expression",
     "output_type": "error",
     "traceback": [
      "syntax: extra token \"amount\" after end of expression",
      "",
      "Stacktrace:",
      " [1] top-level scope",
      "   @ In[16]:1",
      " [2] eval",
      "   @ .\\boot.jl:360 [inlined]",
      " [3] include_string(mapexpr::typeof(REPL.softscope), mod::Module, code::String, filename::String)",
      "   @ Base .\\loading.jl:1116"
     ]
    }
   ],
   "source": [
    "loan amount=2000\n",
    "#cannot give spaces in variable names"
   ]
  },
  {
   "cell_type": "code",
   "execution_count": 17,
   "id": "a5e86f72",
   "metadata": {},
   "outputs": [
    {
     "data": {
      "text/plain": [
       "5-element Vector{Int64}:\n",
       " 1\n",
       " 2\n",
       " 3\n",
       " 4\n",
       " 5"
      ]
     },
     "execution_count": 17,
     "metadata": {},
     "output_type": "execute_result"
    }
   ],
   "source": [
    "# Arrays\n",
    "a=[1,2,3,4,5]"
   ]
  },
  {
   "cell_type": "code",
   "execution_count": 18,
   "id": "7bcfe8ab",
   "metadata": {},
   "outputs": [
    {
     "data": {
      "text/plain": [
       "5-element Vector{Float64}:\n",
       " 1.0\n",
       " 2.0\n",
       " 3.5\n",
       " 4.0\n",
       " 5.0"
      ]
     },
     "execution_count": 18,
     "metadata": {},
     "output_type": "execute_result"
    }
   ],
   "source": [
    "b = [1,2,3.5,4,5]"
   ]
  },
  {
   "cell_type": "code",
   "execution_count": 19,
   "id": "6bb4206c",
   "metadata": {},
   "outputs": [
    {
     "data": {
      "text/plain": [
       "4-element Vector{String}:\n",
       " \"Hi,\"\n",
       " \"How\"\n",
       " \"are\"\n",
       " \"you?\""
      ]
     },
     "execution_count": 19,
     "metadata": {},
     "output_type": "execute_result"
    }
   ],
   "source": [
    "s1 = [\"Hi,\",\"How\",\"are\",\"you?\"]"
   ]
  },
  {
   "cell_type": "code",
   "execution_count": 20,
   "id": "14a4d7a8",
   "metadata": {},
   "outputs": [
    {
     "data": {
      "text/plain": [
       "3-element Vector{Any}:\n",
       " 1\n",
       " 3.5\n",
       "  \"You\""
      ]
     },
     "execution_count": 20,
     "metadata": {},
     "output_type": "execute_result"
    }
   ],
   "source": [
    "c=[1,3.5,\"You\"]"
   ]
  },
  {
   "cell_type": "code",
   "execution_count": 21,
   "id": "9dfedbd0",
   "metadata": {},
   "outputs": [
    {
     "data": {
      "text/plain": [
       "4-element Vector{Float64}:\n",
       " 2.0\n",
       " 4.0\n",
       " 5.0\n",
       " 7.0"
      ]
     },
     "execution_count": 21,
     "metadata": {},
     "output_type": "execute_result"
    }
   ],
   "source": [
    "# Convert values \n",
    "type_float=Float64[2,4,5,7]"
   ]
  },
  {
   "cell_type": "code",
   "execution_count": 24,
   "id": "9a654658",
   "metadata": {},
   "outputs": [
    {
     "data": {
      "text/plain": [
       "4-element Vector{Int64}:\n",
       " 2\n",
       " 4\n",
       " 5\n",
       " 7"
      ]
     },
     "execution_count": 24,
     "metadata": {},
     "output_type": "execute_result"
    }
   ],
   "source": [
    "type_int=Int64[2.0,4.0,5.0,7.0]"
   ]
  },
  {
   "cell_type": "code",
   "execution_count": 48,
   "id": "32882c5a",
   "metadata": {
    "scrolled": true
   },
   "outputs": [
    {
     "data": {
      "text/plain": [
       "2×4 Matrix{Int64}:\n",
       " 1  2  3  4\n",
       " 5  6  7  8"
      ]
     },
     "execution_count": 48,
     "metadata": {},
     "output_type": "execute_result"
    }
   ],
   "source": [
    "# Matrices - 2D Arrays\n",
    "array=[1 2 3 4 ; 5 6 7 8 ]"
   ]
  },
  {
   "cell_type": "code",
   "execution_count": 54,
   "id": "b2187097",
   "metadata": {
    "scrolled": true
   },
   "outputs": [
    {
     "data": {
      "text/plain": [
       "4×2 Matrix{Int64}:\n",
       " 1  2\n",
       " 3  4\n",
       " 5  6\n",
       " 7  8"
      ]
     },
     "execution_count": 54,
     "metadata": {},
     "output_type": "execute_result"
    }
   ],
   "source": [
    "reshape(array1,4,2)"
   ]
  },
  {
   "cell_type": "code",
   "execution_count": 52,
   "id": "548b34cd",
   "metadata": {
    "scrolled": true
   },
   "outputs": [
    {
     "data": {
      "text/plain": [
       "4×2 Matrix{Int64}:\n",
       " 1  2\n",
       " 3  4\n",
       " 5  6\n",
       " 7  8"
      ]
     },
     "execution_count": 52,
     "metadata": {},
     "output_type": "execute_result"
    }
   ],
   "source": [
    "array1=[1 2; 3 4; 5 6; 7 8]"
   ]
  },
  {
   "cell_type": "code",
   "execution_count": 26,
   "id": "ff3b42f1",
   "metadata": {},
   "outputs": [
    {
     "data": {
      "text/plain": [
       "1-element Vector{Int64}:\n",
       " 1234"
      ]
     },
     "execution_count": 26,
     "metadata": {},
     "output_type": "execute_result"
    }
   ],
   "source": [
    "vector=[1234]"
   ]
  },
  {
   "cell_type": "code",
   "execution_count": 28,
   "id": "3719e1ba",
   "metadata": {},
   "outputs": [
    {
     "data": {
      "text/plain": [
       "3-element Vector{Float64}:\n",
       " 0.47494101978968417\n",
       " 0.8459280118454939\n",
       " 0.5997689044302235"
      ]
     },
     "execution_count": 28,
     "metadata": {},
     "output_type": "execute_result"
    }
   ],
   "source": [
    "array_rand = rand(3)"
   ]
  },
  {
   "cell_type": "code",
   "execution_count": 29,
   "id": "67acfc2b",
   "metadata": {},
   "outputs": [
    {
     "data": {
      "text/plain": [
       "3×3 Matrix{Float64}:\n",
       " 0.0256231  0.357608  0.706621\n",
       " 0.310062   0.805665  0.0773174\n",
       " 0.555384   0.683527  0.219602"
      ]
     },
     "execution_count": 29,
     "metadata": {},
     "output_type": "execute_result"
    }
   ],
   "source": [
    "array_rand = rand(3,3)"
   ]
  },
  {
   "cell_type": "code",
   "execution_count": 55,
   "id": "c93f4a81",
   "metadata": {},
   "outputs": [
    {
     "data": {
      "text/plain": [
       "1×3 Matrix{Int64}:\n",
       " 1  2  3"
      ]
     },
     "execution_count": 55,
     "metadata": {},
     "output_type": "execute_result"
    }
   ],
   "source": [
    "[1 2 3]"
   ]
  },
  {
   "cell_type": "code",
   "execution_count": null,
   "id": "8a3709b3",
   "metadata": {},
   "outputs": [],
   "source": []
  }
 ],
 "metadata": {
  "kernelspec": {
   "display_name": "Julia 1.6.2",
   "language": "julia",
   "name": "julia-1.6"
  },
  "language_info": {
   "file_extension": ".jl",
   "mimetype": "application/julia",
   "name": "julia",
   "version": "1.6.2"
  }
 },
 "nbformat": 4,
 "nbformat_minor": 5
}

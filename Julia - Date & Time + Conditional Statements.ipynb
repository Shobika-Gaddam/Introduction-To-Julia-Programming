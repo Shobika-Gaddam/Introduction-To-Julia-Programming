{
 "cells": [
  {
   "cell_type": "code",
   "execution_count": null,
   "id": "d5069b5f",
   "metadata": {},
   "outputs": [],
   "source": [
    "# date and time\n",
    "#using Pkg\n",
    "#Pkg.add(\"Dates\")"
   ]
  },
  {
   "cell_type": "code",
   "execution_count": 1,
   "id": "acc284cd",
   "metadata": {},
   "outputs": [],
   "source": [
    "using Dates"
   ]
  },
  {
   "cell_type": "code",
   "execution_count": 2,
   "id": "2a384994",
   "metadata": {},
   "outputs": [
    {
     "data": {
      "text/plain": [
       "2021-09-20T16:08:24.880"
      ]
     },
     "execution_count": 2,
     "metadata": {},
     "output_type": "execute_result"
    }
   ],
   "source": [
    "now()"
   ]
  },
  {
   "cell_type": "code",
   "execution_count": 3,
   "id": "d7e1e88b",
   "metadata": {
    "scrolled": true
   },
   "outputs": [
    {
     "data": {
      "text/plain": [
       "2021-09-20"
      ]
     },
     "execution_count": 3,
     "metadata": {},
     "output_type": "execute_result"
    }
   ],
   "source": [
    "today()"
   ]
  },
  {
   "cell_type": "code",
   "execution_count": 4,
   "id": "1761e2d7",
   "metadata": {},
   "outputs": [
    {
     "data": {
      "text/plain": [
       "1990-12-02"
      ]
     },
     "execution_count": 4,
     "metadata": {},
     "output_type": "execute_result"
    }
   ],
   "source": [
    "# define a date\n",
    "birthdate=Date(1990,12,02)"
   ]
  },
  {
   "cell_type": "code",
   "execution_count": 6,
   "id": "7273b816",
   "metadata": {},
   "outputs": [
    {
     "data": {
      "text/plain": [
       "1990-12-02T10:15:45"
      ]
     },
     "execution_count": 6,
     "metadata": {},
     "output_type": "execute_result"
    }
   ],
   "source": [
    "c = DateTime(1990,12,02,10,15,45)"
   ]
  },
  {
   "cell_type": "code",
   "execution_count": 7,
   "id": "fd117d13",
   "metadata": {},
   "outputs": [
    {
     "data": {
      "text/plain": [
       "1990-12-02T10:15:45"
      ]
     },
     "execution_count": 7,
     "metadata": {},
     "output_type": "execute_result"
    }
   ],
   "source": [
    "c"
   ]
  },
  {
   "cell_type": "code",
   "execution_count": 9,
   "id": "5870716b",
   "metadata": {},
   "outputs": [
    {
     "data": {
      "text/plain": [
       "2021-09-20T10:41:37.930"
      ]
     },
     "execution_count": 9,
     "metadata": {},
     "output_type": "execute_result"
    }
   ],
   "source": [
    "# universal time cordinate(UTC)\n",
    "now(UTC)"
   ]
  },
  {
   "cell_type": "code",
   "execution_count": 10,
   "id": "d13dc6e2",
   "metadata": {},
   "outputs": [
    {
     "data": {
      "text/plain": [
       "1990"
      ]
     },
     "execution_count": 10,
     "metadata": {},
     "output_type": "execute_result"
    }
   ],
   "source": [
    "year(c)"
   ]
  },
  {
   "cell_type": "code",
   "execution_count": 11,
   "id": "26335ca4",
   "metadata": {},
   "outputs": [
    {
     "data": {
      "text/plain": [
       "1990"
      ]
     },
     "execution_count": 11,
     "metadata": {},
     "output_type": "execute_result"
    }
   ],
   "source": [
    "year(birthdate)"
   ]
  },
  {
   "cell_type": "code",
   "execution_count": 12,
   "id": "a864aeb4",
   "metadata": {},
   "outputs": [
    {
     "data": {
      "text/plain": [
       "12"
      ]
     },
     "execution_count": 12,
     "metadata": {},
     "output_type": "execute_result"
    }
   ],
   "source": [
    "month(c)"
   ]
  },
  {
   "cell_type": "code",
   "execution_count": 13,
   "id": "f71f6da1",
   "metadata": {},
   "outputs": [
    {
     "data": {
      "text/plain": [
       "2"
      ]
     },
     "execution_count": 13,
     "metadata": {},
     "output_type": "execute_result"
    }
   ],
   "source": [
    "day(c)"
   ]
  },
  {
   "cell_type": "code",
   "execution_count": 15,
   "id": "e52842bb",
   "metadata": {},
   "outputs": [
    {
     "data": {
      "text/plain": [
       "10"
      ]
     },
     "execution_count": 15,
     "metadata": {},
     "output_type": "execute_result"
    }
   ],
   "source": [
    "hour(c)"
   ]
  },
  {
   "cell_type": "code",
   "execution_count": 16,
   "id": "7f5c142f",
   "metadata": {},
   "outputs": [
    {
     "data": {
      "text/plain": [
       "\"Sunday\""
      ]
     },
     "execution_count": 16,
     "metadata": {},
     "output_type": "execute_result"
    }
   ],
   "source": [
    "dayname(birthdate)"
   ]
  },
  {
   "cell_type": "code",
   "execution_count": 17,
   "id": "76756a78",
   "metadata": {},
   "outputs": [
    {
     "data": {
      "text/plain": [
       "31"
      ]
     },
     "execution_count": 17,
     "metadata": {},
     "output_type": "execute_result"
    }
   ],
   "source": [
    "daysinmonth(birthdate)"
   ]
  },
  {
   "cell_type": "code",
   "execution_count": 18,
   "id": "487e58e9",
   "metadata": {},
   "outputs": [
    {
     "data": {
      "text/plain": [
       "11250 days"
      ]
     },
     "execution_count": 18,
     "metadata": {},
     "output_type": "execute_result"
    }
   ],
   "source": [
    "today()-birthdate\n",
    "# both should be in same units"
   ]
  },
  {
   "cell_type": "code",
   "execution_count": 19,
   "id": "bf910e59",
   "metadata": {},
   "outputs": [
    {
     "data": {
      "text/plain": [
       "\"02-12-1990\""
      ]
     },
     "execution_count": 19,
     "metadata": {},
     "output_type": "execute_result"
    }
   ],
   "source": [
    "date_format = DateFormat(\"dd-mm-yyyy\")\n",
    "Dates.format(birthdate,date_format)"
   ]
  },
  {
   "cell_type": "code",
   "execution_count": 20,
   "id": "3dc059f7",
   "metadata": {},
   "outputs": [],
   "source": [
    "# to give multiple commands use =#\n",
    "# Date.Time deals with time\n",
    "# Date.Date deals with date\n",
    "# Date.DateTime deals with date and time "
   ]
  },
  {
   "cell_type": "code",
   "execution_count": 21,
   "id": "8fc65014",
   "metadata": {},
   "outputs": [
    {
     "data": {
      "text/plain": [
       "\"No\""
      ]
     },
     "execution_count": 21,
     "metadata": {},
     "output_type": "execute_result"
    }
   ],
   "source": [
    "# Conditional Statements\n",
    "a = 25\n",
    "a>25 ? \"Yes\" : \"No\""
   ]
  },
  {
   "cell_type": "code",
   "execution_count": 22,
   "id": "e6c56d9c",
   "metadata": {},
   "outputs": [
    {
     "data": {
      "text/plain": [
       "true"
      ]
     },
     "execution_count": 22,
     "metadata": {},
     "output_type": "execute_result"
    }
   ],
   "source": [
    "b = 50\n",
    "# using logical operators\n",
    "# or -> ||\n",
    "# and -> && =#\n",
    "a>=25||b<50"
   ]
  },
  {
   "cell_type": "code",
   "execution_count": 23,
   "id": "7b7ae25a",
   "metadata": {},
   "outputs": [
    {
     "data": {
      "text/plain": [
       "false"
      ]
     },
     "execution_count": 23,
     "metadata": {},
     "output_type": "execute_result"
    }
   ],
   "source": [
    "a>25||b<50"
   ]
  },
  {
   "cell_type": "code",
   "execution_count": 24,
   "id": "619e8fb5",
   "metadata": {},
   "outputs": [
    {
     "data": {
      "text/plain": [
       "false"
      ]
     },
     "execution_count": 24,
     "metadata": {},
     "output_type": "execute_result"
    }
   ],
   "source": [
    "a>=25 && b<50"
   ]
  },
  {
   "cell_type": "code",
   "execution_count": 25,
   "id": "1b40140e",
   "metadata": {},
   "outputs": [
    {
     "data": {
      "text/plain": [
       "true"
      ]
     },
     "execution_count": 25,
     "metadata": {},
     "output_type": "execute_result"
    }
   ],
   "source": [
    "a>=25 && b==50"
   ]
  },
  {
   "cell_type": "code",
   "execution_count": 26,
   "id": "90f35924",
   "metadata": {},
   "outputs": [
    {
     "name": "stdout",
     "output_type": "stream",
     "text": [
      "a is equal to 25"
     ]
    }
   ],
   "source": [
    "# using if condition\n",
    "a=25\n",
    "if a>25\n",
    "    print(\"a is greater than 25\")\n",
    "elseif a<25\n",
    "    print(\"a is less than 25\")\n",
    "else\n",
    "    print(\"a is equal to 25\")\n",
    "end"
   ]
  },
  {
   "cell_type": "code",
   "execution_count": 28,
   "id": "6a7618cd",
   "metadata": {},
   "outputs": [
    {
     "name": "stdout",
     "output_type": "stream",
     "text": [
      "Yes"
     ]
    }
   ],
   "source": [
    "Country = \"India\"\n",
    "if Country == \"India\"\n",
    "    print(\"Yes\")\n",
    "else\n",
    "    print(\"No\")\n",
    "end"
   ]
  },
  {
   "cell_type": "code",
   "execution_count": 29,
   "id": "0c2e9210",
   "metadata": {},
   "outputs": [
    {
     "name": "stdout",
     "output_type": "stream",
     "text": [
      "No"
     ]
    }
   ],
   "source": [
    "Country = \"India\"\n",
    "if Country == \"USA\"\n",
    "    print(\"Yes\")\n",
    "else\n",
    "    print(\"No\")\n",
    "end"
   ]
  },
  {
   "cell_type": "code",
   "execution_count": 30,
   "id": "091989ef",
   "metadata": {},
   "outputs": [
    {
     "name": "stdout",
     "output_type": "stream",
     "text": [
      "Adidas Nike Puma "
     ]
    }
   ],
   "source": [
    "# using for loops\n",
    "for sports_brands in [\"Adidas\",\"Nike\",\"Puma\"]\n",
    "    print(sports_brands, \" \")\n",
    "end"
   ]
  },
  {
   "cell_type": "code",
   "execution_count": 31,
   "id": "a73736d0",
   "metadata": {},
   "outputs": [
    {
     "name": "stdout",
     "output_type": "stream",
     "text": [
      "Adidas \n",
      "Nike \n",
      "Puma \n"
     ]
    }
   ],
   "source": [
    "# using for loops\n",
    "for sports_brands in [\"Adidas\",\"Nike\",\"Puma\"]\n",
    "    println(sports_brands, \" \")\n",
    "end"
   ]
  },
  {
   "cell_type": "code",
   "execution_count": 32,
   "id": "bef7be94",
   "metadata": {},
   "outputs": [
    {
     "name": "stdout",
     "output_type": "stream",
     "text": [
      "12345"
     ]
    }
   ],
   "source": [
    "# for loop with tuples\n",
    "for t in (1,2,3,4,5)\n",
    "    print(t)\n",
    "end"
   ]
  },
  {
   "cell_type": "code",
   "execution_count": 33,
   "id": "df6ccf05",
   "metadata": {},
   "outputs": [
    {
     "name": "stdout",
     "output_type": "stream",
     "text": [
      "1,2,3,4,5,"
     ]
    }
   ],
   "source": [
    "# for loop with tuples\n",
    "for t in (1,2,3,4,5)\n",
    "    print(t, \",\")\n",
    "end"
   ]
  },
  {
   "cell_type": "code",
   "execution_count": 34,
   "id": "a99ccc69",
   "metadata": {},
   "outputs": [
    {
     "name": "stdout",
     "output_type": "stream",
     "text": [
      ":car2 => 2000 :car1 => 1000 "
     ]
    }
   ],
   "source": [
    "# for loop with dictionaries\n",
    "for d in Dict(:car1=>1000, :car2=>2000)\n",
    "    print(d, \" \")\n",
    "end"
   ]
  },
  {
   "cell_type": "code",
   "execution_count": 36,
   "id": "7f41e725",
   "metadata": {},
   "outputs": [
    {
     "name": "stdout",
     "output_type": "stream",
     "text": [
      ":car2 => 2000 \n",
      ":car1 => 1000 \n"
     ]
    }
   ],
   "source": [
    "d1 = Dict(:car1=>1000, :car2=>2000)\n",
    "for d in d1\n",
    "    println(d, \" \")\n",
    "end"
   ]
  },
  {
   "cell_type": "code",
   "execution_count": 39,
   "id": "0f3a1938",
   "metadata": {},
   "outputs": [
    {
     "name": "stdout",
     "output_type": "stream",
     "text": [
      "50 20 10 30 40 "
     ]
    }
   ],
   "source": [
    "# for loop using sets\n",
    "for S in Set([10,20,30,40,50])\n",
    "    print(S, \" \")\n",
    "end"
   ]
  },
  {
   "cell_type": "code",
   "execution_count": 1,
   "id": "8dd3e463",
   "metadata": {},
   "outputs": [
    {
     "name": "stdout",
     "output_type": "stream",
     "text": [
      "range = 1\n",
      "range = 2\n",
      "range = 3\n",
      "range = 4\n",
      "range = 5\n"
     ]
    }
   ],
   "source": [
    "for range in 1:5 \n",
    "    @show range \n",
    "end\n",
    "# @show is a macrokeyword to show"
   ]
  },
  {
   "cell_type": "code",
   "execution_count": 3,
   "id": "a08c3dca",
   "metadata": {},
   "outputs": [
    {
     "name": "stdout",
     "output_type": "stream",
     "text": [
      "2 4 6 8 10 "
     ]
    }
   ],
   "source": [
    "for x in 1:10\n",
    "    if x%2 == 0\n",
    "        print(x, ' ')\n",
    "    end\n",
    "end"
   ]
  },
  {
   "cell_type": "code",
   "execution_count": 4,
   "id": "b5e4f938",
   "metadata": {},
   "outputs": [
    {
     "name": "stdout",
     "output_type": "stream",
     "text": [
      "10 is multiplication between 1 and 10\n",
      "20 is multiplication between 2 and 10\n",
      "30 is multiplication between 3 and 10\n",
      "40 is multiplication between 4 and 10\n",
      "50 is multiplication between 5 and 10\n",
      "60 is multiplication between 6 and 10\n",
      "70 is multiplication between 7 and 10\n",
      "80 is multiplication between 8 and 10\n",
      "90 is multiplication between 9 and 10\n",
      "100 is multiplication between 10 and 10\n"
     ]
    }
   ],
   "source": [
    "for i in 1:10\n",
    "    j = i*10\n",
    "    println(\"$(j) is multiplication between $(i) and 10\")\n",
    "end\n",
    "# $ symbol has to be used to get variable"
   ]
  },
  {
   "cell_type": "code",
   "execution_count": 5,
   "id": "8a0b886a",
   "metadata": {},
   "outputs": [
    {
     "name": "stdout",
     "output_type": "stream",
     "text": [
      "1\n",
      "3\n",
      "5\n",
      "7\n",
      "9\n"
     ]
    }
   ],
   "source": [
    "for i in 1:10\n",
    "    if i%2==0\n",
    "        continue\n",
    "    end\n",
    "    println(i)\n",
    "end"
   ]
  },
  {
   "cell_type": "code",
   "execution_count": 6,
   "id": "db4ca16d",
   "metadata": {},
   "outputs": [
    {
     "name": "stdout",
     "output_type": "stream",
     "text": [
      "1\n",
      "2\n",
      "3\n",
      "4\n",
      "5\n",
      "6\n",
      "7\n",
      "8\n",
      "9\n"
     ]
    }
   ],
   "source": [
    "# while loop\n",
    "a = 1\n",
    "while a<10\n",
    "    println(a)\n",
    "    a+=1\n",
    "end    "
   ]
  },
  {
   "cell_type": "code",
   "execution_count": 7,
   "id": "3c5c5fff",
   "metadata": {},
   "outputs": [
    {
     "name": "stdout",
     "output_type": "stream",
     "text": [
      "2\n",
      "3\n",
      "4\n",
      "5\n",
      "6\n",
      "7\n",
      "8\n",
      "9\n",
      "10\n"
     ]
    }
   ],
   "source": [
    "# while loop\n",
    "a = 1\n",
    "while a<10\n",
    "    a+=1\n",
    "    println(a)\n",
    "end    "
   ]
  },
  {
   "cell_type": "code",
   "execution_count": 8,
   "id": "74a62b71",
   "metadata": {},
   "outputs": [
    {
     "data": {
      "text/plain": [
       "10-element Vector{Int64}:\n",
       "  1\n",
       "  2\n",
       "  3\n",
       "  4\n",
       "  5\n",
       "  6\n",
       "  7\n",
       "  8\n",
       "  9\n",
       " 10"
      ]
     },
     "execution_count": 8,
     "metadata": {},
     "output_type": "execute_result"
    }
   ],
   "source": [
    "# Comprehensions\n",
    "x = [i for i in 1:10]"
   ]
  },
  {
   "cell_type": "code",
   "execution_count": 9,
   "id": "b25a1031",
   "metadata": {},
   "outputs": [
    {
     "data": {
      "text/plain": [
       "10-element Vector{Int64}:\n",
       "  3\n",
       "  6\n",
       "  9\n",
       " 12\n",
       " 15\n",
       " 18\n",
       " 21\n",
       " 24\n",
       " 27\n",
       " 30"
      ]
     },
     "execution_count": 9,
     "metadata": {},
     "output_type": "execute_result"
    }
   ],
   "source": [
    "x = [i*3 for i in 1:10]"
   ]
  },
  {
   "cell_type": "code",
   "execution_count": 10,
   "id": "91d61ee8",
   "metadata": {},
   "outputs": [
    {
     "data": {
      "text/plain": [
       "10-element Vector{Int64}:\n",
       "   1\n",
       "   4\n",
       "   9\n",
       "  16\n",
       "  25\n",
       "  36\n",
       "  49\n",
       "  64\n",
       "  81\n",
       " 100"
      ]
     },
     "execution_count": 10,
     "metadata": {},
     "output_type": "execute_result"
    }
   ],
   "source": [
    "x = [i^2 for i in 1:10]"
   ]
  },
  {
   "cell_type": "code",
   "execution_count": 12,
   "id": "5fa42453",
   "metadata": {},
   "outputs": [
    {
     "data": {
      "text/plain": [
       "Set{Int64} with 10 elements:\n",
       "  5\n",
       "  4\n",
       "  6\n",
       "  7\n",
       "  2\n",
       "  10\n",
       "  9\n",
       "  8\n",
       "  3\n",
       "  1"
      ]
     },
     "execution_count": 12,
     "metadata": {},
     "output_type": "execute_result"
    }
   ],
   "source": [
    "c = Set([i for i in 1:10])"
   ]
  },
  {
   "cell_type": "code",
   "execution_count": 15,
   "id": "78d22ade",
   "metadata": {},
   "outputs": [
    {
     "data": {
      "text/plain": [
       "Dict{String, Int64} with 26 entries:\n",
       "  \"Z\" => 26\n",
       "  \"Q\" => 17\n",
       "  \"W\" => 23\n",
       "  \"T\" => 20\n",
       "  \"C\" => 3\n",
       "  \"P\" => 16\n",
       "  \"V\" => 22\n",
       "  \"L\" => 12\n",
       "  \"O\" => 15\n",
       "  \"B\" => 2\n",
       "  \"M\" => 13\n",
       "  \"N\" => 14\n",
       "  \"H\" => 8\n",
       "  \"A\" => 1\n",
       "  \"X\" => 24\n",
       "  \"D\" => 4\n",
       "  \"G\" => 7\n",
       "  \"E\" => 5\n",
       "  \"Y\" => 25\n",
       "  \"I\" => 9\n",
       "  \"J\" => 10\n",
       "  \"S\" => 19\n",
       "  \"U\" => 21\n",
       "  \"K\" => 11\n",
       "  \"R\" => 18\n",
       "  \"F\" => 6"
      ]
     },
     "execution_count": 15,
     "metadata": {},
     "output_type": "execute_result"
    }
   ],
   "source": [
    "alphabet = Dict(string(Char(x+64)) => x for x in 1:26)"
   ]
  },
  {
   "cell_type": "code",
   "execution_count": 18,
   "id": "498db1ad",
   "metadata": {},
   "outputs": [
    {
     "data": {
      "text/plain": [
       "3×2 Matrix{Tuple{Int64, Int64}}:\n",
       " (1, 1)  (1, 2)\n",
       " (2, 1)  (2, 2)\n",
       " (3, 1)  (3, 2)"
      ]
     },
     "execution_count": 18,
     "metadata": {},
     "output_type": "execute_result"
    }
   ],
   "source": [
    "[(x,y) for x in 1:3, y in 1:2]"
   ]
  },
  {
   "cell_type": "code",
   "execution_count": 19,
   "id": "2a42700e",
   "metadata": {},
   "outputs": [
    {
     "data": {
      "text/plain": [
       "5-element Vector{Int64}:\n",
       "  2\n",
       "  4\n",
       "  6\n",
       "  8\n",
       " 10"
      ]
     },
     "execution_count": 19,
     "metadata": {},
     "output_type": "execute_result"
    }
   ],
   "source": [
    "# Conditional Comprehension\n",
    "[x for x in 1:10 if x%2==0]"
   ]
  },
  {
   "cell_type": "code",
   "execution_count": 5,
   "id": "932e33c7",
   "metadata": {},
   "outputs": [
    {
     "ename": "LoadError",
     "evalue": "syntax: incomplete: \"if\" at In[5]:5 requires end",
     "output_type": "error",
     "traceback": [
      "syntax: incomplete: \"if\" at In[5]:5 requires end",
      "",
      "Stacktrace:",
      " [1] top-level scope",
      "   @ In[5]:2",
      " [2] eval",
      "   @ .\\boot.jl:360 [inlined]",
      " [3] include_string(mapexpr::typeof(REPL.softscope), mod::Module, code::String, filename::String)",
      "   @ Base .\\loading.jl:1116"
     ]
    }
   ],
   "source": [
    "# Print Prime no. 1-50\n",
    "for num in range(1, 50)\n",
    "    if(num>1)\n",
    "        for i in range(2,num)\n",
    "            if(num%i)==0\n",
    "                print(i)\n",
    "                break\n",
    "            else\n",
    "                break"
   ]
  },
  {
   "cell_type": "code",
   "execution_count": null,
   "id": "cfb4cf1b",
   "metadata": {},
   "outputs": [],
   "source": []
  }
 ],
 "metadata": {
  "kernelspec": {
   "display_name": "Julia 1.6.2",
   "language": "julia",
   "name": "julia-1.6"
  },
  "language_info": {
   "file_extension": ".jl",
   "mimetype": "application/julia",
   "name": "julia",
   "version": "1.6.2"
  }
 },
 "nbformat": 4,
 "nbformat_minor": 5
}
